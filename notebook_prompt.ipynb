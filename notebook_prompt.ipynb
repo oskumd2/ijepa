{
 "cells": [
  {
   "cell_type": "code",
   "execution_count": 5,
   "metadata": {},
   "outputs": [
    {
     "name": "stdout",
     "output_type": "stream",
     "text": [
      "5\n"
     ]
    },
    {
     "data": {
      "text/plain": [
       "5"
      ]
     },
     "execution_count": 5,
     "metadata": {},
     "output_type": "execute_result"
    }
   ],
   "source": [
    "#Set directory of Diabetic Retinopathy dataset in the style of ImageNet\n",
    "import pandas as pd\n",
    "\n",
    "train_df = pd.read_csv(\"C:/rsrch/240305_TorchDR/input/diabetic-retinopathy-resized/trainLabels.csv\")\n",
    "#print(len(train_df[\"level\"].unique()))  # type = numpy.array\n",
    "label_list = train_df[\"level\"].unique().tolist()\n",
    "#len(label_list)  # type = list\n",
    "\n",
    "import os\n",
    "\n",
    "def createFolder(directory):\n",
    "    try:\n",
    "        if not os.path.exists(directory):\n",
    "            os.makedirs(directory)\n",
    "    except OSError:\n",
    "        print ('Error: Creating directory. ' +  directory)\n",
    " \n",
    "for i in range(len(label_list)):  # 레이블 개수 만큼 \n",
    "    createFolder(f'C:/rsrch/240315_ijepa/diabetic_retinopathy/train/{label_list[i]}')  # 레이블 폴더를 생성 \n",
    "\n",
    "train_folder = os.listdir('C:/rsrch/240305_TorchDR/input/diabetic-retinopathy-resized/resized_train/resized_train/')\n",
    "\n",
    "import shutil\n",
    "\n",
    "for i in range(len(train_folder)): \n",
    "    \n",
    "    if train_folder[i][-4:] == \"jpeg\":   # 확장자가 jpeg면 \n",
    "        label = train_df.loc[train_df[\"image\"] == f\"{train_folder[i][:-5]}\"][\"level\"].values[0]  # train_df에서 이미지 이름에 맞는 label을 불러와 저장\n",
    "        file_source = f'C:/rsrch/240305_TorchDR/input/diabetic-retinopathy-resized/resized_train/resized_train/{train_folder[i]}'  # train 폴더에 있는 해당 이미지를\n",
    "        file_destination = f'C:/rsrch/240315_ijepa/diabetic_retinopathy/train/{label}/'  # 해당 label 폴더로 이동 \n",
    "        shutil.move(file_source, file_destination)  # 이동 실행"
   ]
  },
  {
   "cell_type": "code",
   "execution_count": 1,
   "metadata": {},
   "outputs": [],
   "source": [
    "# Created by JHA for Exercise\n",
    "import os\n",
    "os.environ['PYTORCH_CUDA_ALLOC_CONF'] = 'expandable_segments:True'\n",
    "!python main.py --fname configs/in1k_vith14_ep300.yaml  --devices cuda:0"
   ]
  }
 ],
 "metadata": {
  "kernelspec": {
   "display_name": "240316",
   "language": "python",
   "name": "python3"
  },
  "language_info": {
   "codemirror_mode": {
    "name": "ipython",
    "version": 3
   },
   "file_extension": ".py",
   "mimetype": "text/x-python",
   "name": "python",
   "nbconvert_exporter": "python",
   "pygments_lexer": "ipython3",
   "version": "3.8.18"
  }
 },
 "nbformat": 4,
 "nbformat_minor": 2
}
